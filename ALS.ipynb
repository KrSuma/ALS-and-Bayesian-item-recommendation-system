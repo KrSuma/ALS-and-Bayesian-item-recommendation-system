{
 "cells": [
  {
   "cell_type": "code",
   "execution_count": 1,
   "metadata": {
    "collapsed": true
   },
   "outputs": [],
   "source": [
    "import numpy as np\n",
    "from numpy import log, log1p, bincount\n",
    "import pandas as pd\n",
    "\n",
    "import implicit\n",
    "from implicit.als import AlternatingLeastSquares\n",
    "from implicit.approximate_als import (\n",
    "    AnnoyAlternatingLeastSquares,\n",
    "    FaissAlternatingLeastSquares,\n",
    "    NMSLibAlternatingLeastSquares,\n",
    ")\n",
    "from implicit.bpr import BayesianPersonalizedRanking\n",
    "from implicit.lmf import LogisticMatrixFactorization\n",
    "from implicit.nearest_neighbours import (\n",
    "    BM25Recommender,\n",
    "    CosineRecommender,\n",
    "    TFIDFRecommender,\n",
    "    bm25_weight,\n",
    ")\n",
    "\n",
    "import time\n",
    "import logging\n",
    "import scipy\n",
    "from scipy.sparse import coo_matrix, linalg, csr_matrix\n",
    "import codecs\n",
    "\n",
    "from tqdm import tqdm\n",
    "\n",
    "# log = logging.getLogger(\"implicit\")"
   ]
  },
  {
   "cell_type": "code",
   "execution_count": 58,
   "outputs": [
    {
     "name": "stderr",
     "output_type": "stream",
     "text": [
      "<ipython-input-58-507892c45dee>:3: DtypeWarning: Columns (52) have mixed types.Specify dtype option on import or set low_memory=False.\n",
      "  all_orders_original = pd.concat(df_from_each_file, ignore_index=True)\n",
      "<ipython-input-58-507892c45dee>:3: DtypeWarning: Columns (64) have mixed types.Specify dtype option on import or set low_memory=False.\n",
      "  all_orders_original = pd.concat(df_from_each_file, ignore_index=True)\n"
     ]
    }
   ],
   "source": [
    "all_files = ['orders_export_1.csv', 'orders_export_2.csv', 'orders_export_3.csv']\n",
    "df_from_each_file = (pd.read_csv(f) for f in all_files)\n",
    "all_orders_original = pd.concat(df_from_each_file, ignore_index=True)"
   ],
   "metadata": {
    "collapsed": false,
    "pycharm": {
     "name": "#%%\n"
    }
   }
  },
  {
   "cell_type": "code",
   "execution_count": 59,
   "outputs": [
    {
     "name": "stdout",
     "output_type": "stream",
     "text": [
      "<class 'pandas.core.frame.DataFrame'>\n",
      "RangeIndex: 54772 entries, 0 to 54771\n",
      "Data columns (total 73 columns):\n",
      " #   Column                       Non-Null Count  Dtype  \n",
      "---  ------                       --------------  -----  \n",
      " 0   Name                         54772 non-null  object \n",
      " 1   Email                        54728 non-null  object \n",
      " 2   Financial Status             37480 non-null  object \n",
      " 3   Paid at                      30519 non-null  object \n",
      " 4   Fulfillment Status           37480 non-null  object \n",
      " 5   Fulfilled at                 35612 non-null  object \n",
      " 6   Accepts Marketing            37480 non-null  object \n",
      " 7   Currency                     37480 non-null  object \n",
      " 8   Subtotal                     37480 non-null  float64\n",
      " 9   Shipping                     37480 non-null  float64\n",
      " 10  Taxes                        37480 non-null  float64\n",
      " 11  Total                        37480 non-null  float64\n",
      " 12  Discount Code                6202 non-null   object \n",
      " 13  Discount Amount              37480 non-null  float64\n",
      " 14  Shipping Method              37438 non-null  object \n",
      " 15  Created at                   54772 non-null  object \n",
      " 16  Lineitem quantity            54772 non-null  int64  \n",
      " 17  Lineitem name                54772 non-null  object \n",
      " 18  Lineitem price               54772 non-null  float64\n",
      " 19  Lineitem compare at price    9633 non-null   float64\n",
      " 20  Lineitem sku                 52783 non-null  object \n",
      " 21  Lineitem requires shipping   54772 non-null  bool   \n",
      " 22  Lineitem taxable             54772 non-null  bool   \n",
      " 23  Lineitem fulfillment status  54772 non-null  object \n",
      " 24  Billing Name                 37480 non-null  object \n",
      " 25  Billing Street               37476 non-null  object \n",
      " 26  Billing Address1             37476 non-null  object \n",
      " 27  Billing Address2             8562 non-null   object \n",
      " 28  Billing Company              718 non-null    object \n",
      " 29  Billing City                 37475 non-null  object \n",
      " 30  Billing Zip                  37249 non-null  object \n",
      " 31  Billing Province             31918 non-null  object \n",
      " 32  Billing Country              37476 non-null  object \n",
      " 33  Billing Phone                36632 non-null  object \n",
      " 34  Shipping Name                37473 non-null  object \n",
      " 35  Shipping Street              37473 non-null  object \n",
      " 36  Shipping Address1            37473 non-null  object \n",
      " 37  Shipping Address2            8932 non-null   object \n",
      " 38  Shipping Company             866 non-null    object \n",
      " 39  Shipping City                37472 non-null  object \n",
      " 40  Shipping Zip                 37255 non-null  object \n",
      " 41  Shipping Province            31883 non-null  object \n",
      " 42  Shipping Country             37473 non-null  object \n",
      " 43  Shipping Phone               37416 non-null  object \n",
      " 44  Notes                        9032 non-null   object \n",
      " 45  Note Attributes              14921 non-null  object \n",
      " 46  Cancelled at                 648 non-null    object \n",
      " 47  Payment Method               14882 non-null  object \n",
      " 48  Payment Reference            31006 non-null  object \n",
      " 49  Refunded Amount              37480 non-null  float64\n",
      " 50  Vendor                       54772 non-null  object \n",
      " 51  Outstanding Balance          37480 non-null  float64\n",
      " 52  Employee                     6 non-null      object \n",
      " 53  Location                     581 non-null    object \n",
      " 54  Device ID                    0 non-null      float64\n",
      " 55  Id                           37480 non-null  float64\n",
      " 56  Tags                         23188 non-null  object \n",
      " 57  Risk Level                   37480 non-null  object \n",
      " 58  Source                       37480 non-null  object \n",
      " 59  Lineitem discount            54772 non-null  float64\n",
      " 60  Tax 1 Name                   3072 non-null   object \n",
      " 61  Tax 1 Value                  3072 non-null   float64\n",
      " 62  Tax 2 Name                   1729 non-null   object \n",
      " 63  Tax 2 Value                  1729 non-null   float64\n",
      " 64  Tax 3 Name                   511 non-null    object \n",
      " 65  Tax 3 Value                  511 non-null    float64\n",
      " 66  Tax 4 Name                   0 non-null      float64\n",
      " 67  Tax 4 Value                  0 non-null      float64\n",
      " 68  Tax 5 Name                   0 non-null      float64\n",
      " 69  Tax 5 Value                  0 non-null      float64\n",
      " 70  Phone                        6515 non-null   float64\n",
      " 71  Receipt Number               0 non-null      float64\n",
      " 72  Duties                       0 non-null      float64\n",
      "dtypes: bool(2), float64(22), int64(1), object(48)\n",
      "memory usage: 29.8+ MB\n"
     ]
    }
   ],
   "source": [
    "# the default dataset\n",
    "all_orders_original.info()"
   ],
   "metadata": {
    "collapsed": false,
    "pycharm": {
     "name": "#%%\n"
    }
   }
  },
  {
   "cell_type": "code",
   "execution_count": 60,
   "outputs": [],
   "source": [
    "columns = ['Email', 'Lineitem sku', 'Lineitem quantity']\n",
    "columns2 = ['Vendor', 'Lineitem quantity', 'Email']"
   ],
   "metadata": {
    "collapsed": false,
    "pycharm": {
     "name": "#%%\n"
    }
   }
  },
  {
   "cell_type": "code",
   "execution_count": 61,
   "outputs": [
    {
     "name": "stderr",
     "output_type": "stream",
     "text": [
      "/Users/jslee/PycharmProjects/ALS/venv/lib/python3.9/site-packages/pandas/core/frame.py:4438: SettingWithCopyWarning: \n",
      "A value is trying to be set on a copy of a slice from a DataFrame\n",
      "\n",
      "See the caveats in the documentation: https://pandas.pydata.org/pandas-docs/stable/user_guide/indexing.html#returning-a-view-versus-a-copy\n",
      "  return super().rename(\n"
     ]
    }
   ],
   "source": [
    "all_orders_2 = all_orders_original[columns]\n",
    "all_orders_2.rename(columns={'Lineitem sku':'Item', 'Lineitem quantity':'Quantity'}, inplace=True)\n",
    "\n",
    "\n",
    "all_orders = all_orders_original[columns2]\n",
    "all_orders.rename(columns={'Lineitem quantity':'Quantity'}, inplace=True)\n"
   ],
   "metadata": {
    "collapsed": false,
    "pycharm": {
     "name": "#%%\n"
    }
   }
  },
  {
   "cell_type": "code",
   "execution_count": 62,
   "outputs": [
    {
     "data": {
      "text/plain": "  Vendor  Quantity                   Email\n0  Route         1  natsumi830@hotmail.com\n1   FILA         1  natsumi830@hotmail.com\n2   FILA         1  natsumi830@hotmail.com\n3    BTS         1    micahjumaq@gmail.com\n4    BTS         1    micahjumaq@gmail.com",
      "text/html": "<div>\n<style scoped>\n    .dataframe tbody tr th:only-of-type {\n        vertical-align: middle;\n    }\n\n    .dataframe tbody tr th {\n        vertical-align: top;\n    }\n\n    .dataframe thead th {\n        text-align: right;\n    }\n</style>\n<table border=\"1\" class=\"dataframe\">\n  <thead>\n    <tr style=\"text-align: right;\">\n      <th></th>\n      <th>Vendor</th>\n      <th>Quantity</th>\n      <th>Email</th>\n    </tr>\n  </thead>\n  <tbody>\n    <tr>\n      <th>0</th>\n      <td>Route</td>\n      <td>1</td>\n      <td>natsumi830@hotmail.com</td>\n    </tr>\n    <tr>\n      <th>1</th>\n      <td>FILA</td>\n      <td>1</td>\n      <td>natsumi830@hotmail.com</td>\n    </tr>\n    <tr>\n      <th>2</th>\n      <td>FILA</td>\n      <td>1</td>\n      <td>natsumi830@hotmail.com</td>\n    </tr>\n    <tr>\n      <th>3</th>\n      <td>BTS</td>\n      <td>1</td>\n      <td>micahjumaq@gmail.com</td>\n    </tr>\n    <tr>\n      <th>4</th>\n      <td>BTS</td>\n      <td>1</td>\n      <td>micahjumaq@gmail.com</td>\n    </tr>\n  </tbody>\n</table>\n</div>"
     },
     "execution_count": 62,
     "metadata": {},
     "output_type": "execute_result"
    }
   ],
   "source": [
    "all_orders.head()"
   ],
   "metadata": {
    "collapsed": false,
    "pycharm": {
     "name": "#%%\n"
    }
   }
  },
  {
   "cell_type": "markdown",
   "source": [
    "### Model based on vendors\n",
    "[Quantity, (Vendor, Email)]"
   ],
   "metadata": {
    "collapsed": false,
    "pycharm": {
     "name": "#%% md\n"
    }
   }
  },
  {
   "cell_type": "code",
   "execution_count": 63,
   "outputs": [
    {
     "name": "stderr",
     "output_type": "stream",
     "text": [
      "<ipython-input-63-8905d6f0e9c1>:6: SettingWithCopyWarning: \n",
      "A value is trying to be set on a copy of a slice from a DataFrame.\n",
      "Try using .loc[row_indexer,col_indexer] = value instead\n",
      "\n",
      "See the caveats in the documentation: https://pandas.pydata.org/pandas-docs/stable/user_guide/indexing.html#returning-a-view-versus-a-copy\n",
      "  all_orders['Vendor'] = all_orders['Vendor'].astype(\"category\")\n",
      "<ipython-input-63-8905d6f0e9c1>:7: SettingWithCopyWarning: \n",
      "A value is trying to be set on a copy of a slice from a DataFrame.\n",
      "Try using .loc[row_indexer,col_indexer] = value instead\n",
      "\n",
      "See the caveats in the documentation: https://pandas.pydata.org/pandas-docs/stable/user_guide/indexing.html#returning-a-view-versus-a-copy\n",
      "  all_orders['Email'] = all_orders['Email'].astype(\"category\")\n"
     ]
    }
   ],
   "source": [
    "# all_orders['Quantity'] = all_orders[\"Quantity\"]\n",
    "# all_orders[\"Email\"] = all_orders[\"Email\"].astype(\"category\")\n",
    "# all_orders[\"Item\"] = all_orders[\"Item\"].astype(\"category\")\n",
    "# all_orders[\"Name\"] = all_orders[\"Name\"].astype(\"category\")\n",
    "\n",
    "all_orders['Vendor'] = all_orders['Vendor'].astype(\"category\")\n",
    "all_orders['Email'] = all_orders['Email'].astype(\"category\")"
   ],
   "metadata": {
    "collapsed": false,
    "pycharm": {
     "name": "#%%\n"
    }
   }
  },
  {
   "cell_type": "code",
   "execution_count": 64,
   "outputs": [
    {
     "name": "stdout",
     "output_type": "stream",
     "text": [
      "<class 'pandas.core.frame.DataFrame'>\n",
      "RangeIndex: 54772 entries, 0 to 54771\n",
      "Data columns (total 3 columns):\n",
      " #   Column    Non-Null Count  Dtype   \n",
      "---  ------    --------------  -----   \n",
      " 0   Vendor    54772 non-null  category\n",
      " 1   Quantity  54772 non-null  int64   \n",
      " 2   Email     54728 non-null  category\n",
      "dtypes: category(2), int64(1)\n",
      "memory usage: 1.3 MB\n"
     ]
    }
   ],
   "source": [
    "# all_orders.check_format(full_check=True).\n",
    "all_orders.info()"
   ],
   "metadata": {
    "collapsed": false,
    "pycharm": {
     "name": "#%%\n"
    }
   }
  },
  {
   "cell_type": "code",
   "execution_count": 65,
   "outputs": [
    {
     "name": "stdout",
     "output_type": "stream",
     "text": [
      "<class 'pandas.core.frame.DataFrame'>\n",
      "Int64Index: 54728 entries, 0 to 54771\n",
      "Data columns (total 3 columns):\n",
      " #   Column    Non-Null Count  Dtype   \n",
      "---  ------    --------------  -----   \n",
      " 0   Vendor    54728 non-null  category\n",
      " 1   Quantity  54728 non-null  int64   \n",
      " 2   Email     54728 non-null  category\n",
      "dtypes: category(2), int64(1)\n",
      "memory usage: 1.7 MB\n"
     ]
    },
    {
     "name": "stderr",
     "output_type": "stream",
     "text": [
      "<ipython-input-65-f2f9eaa76b82>:2: SettingWithCopyWarning: \n",
      "A value is trying to be set on a copy of a slice from a DataFrame\n",
      "\n",
      "See the caveats in the documentation: https://pandas.pydata.org/pandas-docs/stable/user_guide/indexing.html#returning-a-view-versus-a-copy\n",
      "  all_orders.dropna(inplace=True)\n"
     ]
    }
   ],
   "source": [
    "# dropping null values or we will have value error doing matrix.\n",
    "all_orders.dropna(inplace=True)\n",
    "all_orders.info()\n"
   ],
   "metadata": {
    "collapsed": false,
    "pycharm": {
     "name": "#%%\n"
    }
   }
  },
  {
   "cell_type": "markdown",
   "source": [
    "\n",
    "### Test 1\n"
   ],
   "metadata": {
    "collapsed": false
   }
  },
  {
   "cell_type": "code",
   "execution_count": 66,
   "outputs": [
    {
     "data": {
      "text/plain": "<54728x54728 sparse matrix of type '<class 'numpy.float32'>'\n\twith 24392 stored elements in Compressed Sparse Row format>"
     },
     "execution_count": 66,
     "metadata": {},
     "output_type": "execute_result"
    }
   ],
   "source": [
    "order_matrix = csr_matrix\\\n",
    "    (\n",
    "        (all_orders['Quantity'].astype(np.float32),\n",
    "        (all_orders['Vendor'].cat.codes.copy(),\n",
    "        all_orders['Email'].cat.codes.copy())), shape=(54728, 54728)\n",
    "    )\n",
    "\n",
    "order_matrix"
   ],
   "metadata": {
    "collapsed": false,
    "pycharm": {
     "name": "#%%\n"
    }
   }
  },
  {
   "cell_type": "code",
   "execution_count": 67,
   "outputs": [
    {
     "data": {
      "text/plain": "  0%|          | 0/20 [00:00<?, ?it/s]",
      "application/vnd.jupyter.widget-view+json": {
       "version_major": 2,
       "version_minor": 0,
       "model_id": "1043354a9f5a47679b3e011ff4ad4f9b"
      }
     },
     "metadata": {},
     "output_type": "display_data"
    }
   ],
   "source": [
    "start = time.time()\n",
    "# Implicit ALS training model\n",
    "model = implicit.als.AlternatingLeastSquares(\n",
    "    factors=10,\n",
    "    iterations=20,\n",
    "    calculate_training_loss=True\n",
    ")\n",
    "model.fit(order_matrix)\n",
    "logging.debug(\"trained model in %0.2fs\", time.time() - start)"
   ],
   "metadata": {
    "collapsed": false,
    "pycharm": {
     "name": "#%%\n"
    }
   }
  },
  {
   "cell_type": "code",
   "execution_count": 68,
   "outputs": [
    {
     "data": {
      "text/plain": "<54728x54728 sparse matrix of type '<class 'numpy.float64'>'\n\twith 24392 stored elements in COOrdinate format>"
     },
     "execution_count": 68,
     "metadata": {},
     "output_type": "execute_result"
    }
   ],
   "source": [
    "# recommend items for a user\n",
    "# dataset -> SVD -> CSR\n",
    "order_matrix = bm25_weight(order_matrix, K1=0, B=0)\n",
    "model.approximate_similar_items = False\n",
    "vendors = np.array(all_orders[\"Vendor\"])\n",
    "emails = np.array(all_orders[\"Email\"])\n",
    "order_matrix"
   ],
   "metadata": {
    "collapsed": false,
    "pycharm": {
     "name": "#%%\n"
    }
   }
  },
  {
   "cell_type": "code",
   "execution_count": 69,
   "outputs": [
    {
     "data": {
      "text/plain": "array(['Route', 'FILA', 'FILA', ..., 'Daebak Box', 'Daebak Box',\n       'Daebak Box'], dtype=object)"
     },
     "execution_count": 69,
     "metadata": {},
     "output_type": "execute_result"
    }
   ],
   "source": [
    "vendors"
   ],
   "metadata": {
    "collapsed": false,
    "pycharm": {
     "name": "#%%\n"
    }
   }
  },
  {
   "cell_type": "code",
   "execution_count": 70,
   "outputs": [
    {
     "data": {
      "text/plain": "array(['natsumi830@hotmail.com', 'natsumi830@hotmail.com',\n       'natsumi830@hotmail.com', ..., 'howard@feverguys.com',\n       'howard@feverguys.com', 'howard@feverguys.com'], dtype=object)"
     },
     "execution_count": 70,
     "metadata": {},
     "output_type": "execute_result"
    }
   ],
   "source": [
    "emails"
   ],
   "metadata": {
    "collapsed": false,
    "pycharm": {
     "name": "#%%\n"
    }
   }
  },
  {
   "cell_type": "code",
   "execution_count": 71,
   "outputs": [
    {
     "data": {
      "text/plain": "<54728x54728 sparse matrix of type '<class 'numpy.float64'>'\n\twith 24392 stored elements in Compressed Sparse Row format>"
     },
     "execution_count": 71,
     "metadata": {},
     "output_type": "execute_result"
    }
   ],
   "source": [
    "user_counts = order_matrix.T.tocsr()\n",
    "user_counts"
   ],
   "metadata": {
    "collapsed": false,
    "pycharm": {
     "name": "#%%\n"
    }
   }
  },
  {
   "cell_type": "code",
   "execution_count": 72,
   "outputs": [
    {
     "name": "stderr",
     "output_type": "stream",
     "text": [
      "100%|██████████| 54728/54728 [00:16<00:00, 3268.11it/s]\n"
     ]
    }
   ],
   "source": [
    "with tqdm(total=len(emails)) as progress:\n",
    "    with codecs.open(\"vendor_recommendation\", \"w\", \"utf8\") as o:\n",
    "        for userid, username in enumerate(emails):\n",
    "            for v_id, score in model.recommend(userid, user_counts):\n",
    "                o.write(\"%s\\t%s\\t%s\\n\" % (username, vendors[v_id], score))\n",
    "            progress.update(1)\n",
    "\n",
    "logging.debug(\"generated recommendations in %0.2fs\", time.time() - start)"
   ],
   "metadata": {
    "collapsed": false,
    "pycharm": {
     "name": "#%%\n"
    }
   }
  },
  {
   "cell_type": "markdown",
   "source": [
    "\n",
    "### Test 2\n"
   ],
   "metadata": {
    "collapsed": false,
    "pycharm": {
     "name": "#%% md\n"
    }
   }
  },
  {
   "cell_type": "code",
   "execution_count": 73,
   "outputs": [
    {
     "name": "stderr",
     "output_type": "stream",
     "text": [
      "<ipython-input-73-597b9758f7c2>:1: SettingWithCopyWarning: \n",
      "A value is trying to be set on a copy of a slice from a DataFrame.\n",
      "Try using .loc[row_indexer,col_indexer] = value instead\n",
      "\n",
      "See the caveats in the documentation: https://pandas.pydata.org/pandas-docs/stable/user_guide/indexing.html#returning-a-view-versus-a-copy\n",
      "  all_orders_2['Item'] = all_orders_2['Item'].astype(\"category\")\n",
      "<ipython-input-73-597b9758f7c2>:2: SettingWithCopyWarning: \n",
      "A value is trying to be set on a copy of a slice from a DataFrame.\n",
      "Try using .loc[row_indexer,col_indexer] = value instead\n",
      "\n",
      "See the caveats in the documentation: https://pandas.pydata.org/pandas-docs/stable/user_guide/indexing.html#returning-a-view-versus-a-copy\n",
      "  all_orders_2['Email'] = all_orders_2['Email'].astype(\"category\")\n"
     ]
    }
   ],
   "source": [
    "all_orders_2['Item'] = all_orders_2['Item'].astype(\"category\")\n",
    "all_orders_2['Email'] = all_orders_2['Email'].astype(\"category\")"
   ],
   "metadata": {
    "collapsed": false,
    "pycharm": {
     "name": "#%%\n"
    }
   }
  },
  {
   "cell_type": "code",
   "execution_count": 74,
   "outputs": [
    {
     "name": "stdout",
     "output_type": "stream",
     "text": [
      "<class 'pandas.core.frame.DataFrame'>\n",
      "RangeIndex: 54772 entries, 0 to 54771\n",
      "Data columns (total 3 columns):\n",
      " #   Column    Non-Null Count  Dtype   \n",
      "---  ------    --------------  -----   \n",
      " 0   Email     54728 non-null  category\n",
      " 1   Item      52783 non-null  category\n",
      " 2   Quantity  54772 non-null  int64   \n",
      "dtypes: category(2), int64(1)\n",
      "memory usage: 1.4 MB\n"
     ]
    }
   ],
   "source": [
    "# all_orders.check_format(full_check=True)\n",
    "all_orders_2.info()"
   ],
   "metadata": {
    "collapsed": false,
    "pycharm": {
     "name": "#%%\n"
    }
   }
  },
  {
   "cell_type": "code",
   "execution_count": 75,
   "outputs": [
    {
     "name": "stderr",
     "output_type": "stream",
     "text": [
      "<ipython-input-75-b537c3a65170>:2: SettingWithCopyWarning: \n",
      "A value is trying to be set on a copy of a slice from a DataFrame\n",
      "\n",
      "See the caveats in the documentation: https://pandas.pydata.org/pandas-docs/stable/user_guide/indexing.html#returning-a-view-versus-a-copy\n",
      "  all_orders_2.dropna(inplace=True)\n"
     ]
    },
    {
     "name": "stdout",
     "output_type": "stream",
     "text": [
      "<class 'pandas.core.frame.DataFrame'>\n",
      "Int64Index: 52742 entries, 0 to 54771\n",
      "Data columns (total 3 columns):\n",
      " #   Column    Non-Null Count  Dtype   \n",
      "---  ------    --------------  -----   \n",
      " 0   Email     52742 non-null  category\n",
      " 1   Item      52742 non-null  category\n",
      " 2   Quantity  52742 non-null  int64   \n",
      "dtypes: category(2), int64(1)\n",
      "memory usage: 1.8 MB\n"
     ]
    }
   ],
   "source": [
    "# dropping null values or we will have value error doing matrix\n",
    "all_orders_2.dropna(inplace=True)\n",
    "all_orders_2.info()"
   ],
   "metadata": {
    "collapsed": false,
    "pycharm": {
     "name": "#%%\n"
    }
   }
  },
  {
   "cell_type": "code",
   "execution_count": 76,
   "outputs": [
    {
     "data": {
      "text/plain": "<52742x52742 sparse matrix of type '<class 'numpy.float32'>'\n\twith 52742 stored elements in COOrdinate format>"
     },
     "execution_count": 76,
     "metadata": {},
     "output_type": "execute_result"
    }
   ],
   "source": [
    "order_matrix2 = coo_matrix\\\n",
    "    (\n",
    "        (all_orders_2['Quantity'].astype(np.float32),\n",
    "        (all_orders_2['Item'].cat.codes.copy(),\n",
    "        all_orders_2['Email'].cat.codes.copy())), shape=(52742, 52742)\n",
    "    )\n",
    "\n",
    "order_matrix2"
   ],
   "metadata": {
    "collapsed": false,
    "pycharm": {
     "name": "#%%\n"
    }
   }
  },
  {
   "cell_type": "code",
   "execution_count": 77,
   "outputs": [
    {
     "data": {
      "text/plain": "  0%|          | 0/20 [00:00<?, ?it/s]",
      "application/vnd.jupyter.widget-view+json": {
       "version_major": 2,
       "version_minor": 0,
       "model_id": "6badc0aae849497ebfaebd806080d8a3"
      }
     },
     "metadata": {},
     "output_type": "display_data"
    }
   ],
   "source": [
    "start = time.time()\n",
    "# Implicit ALS training model\n",
    "model = implicit.als.AlternatingLeastSquares(\n",
    "    factors=10,\n",
    "    iterations=20,\n",
    "    calculate_training_loss=True\n",
    ")\n",
    "model.fit(order_matrix2)\n",
    "logging.debug(\"trained model in %0.2fs\", time.time() - start)"
   ],
   "metadata": {
    "collapsed": false,
    "pycharm": {
     "name": "#%%\n"
    }
   }
  },
  {
   "cell_type": "code",
   "execution_count": 78,
   "outputs": [
    {
     "data": {
      "text/plain": "<52742x52742 sparse matrix of type '<class 'numpy.float64'>'\n\twith 52742 stored elements in COOrdinate format>"
     },
     "execution_count": 78,
     "metadata": {},
     "output_type": "execute_result"
    }
   ],
   "source": [
    "# recommend items for a user\n",
    "# dataset -> SVD -> CSR\n",
    "order_matrix2 = bm25_weight(order_matrix2, K1=0, B=0)\n",
    "model.approximate_similar_items = False\n",
    "items = np.array(all_orders_2[\"Item\"])\n",
    "emails = np.array(all_orders_2[\"Email\"])\n",
    "order_matrix2"
   ],
   "metadata": {
    "collapsed": false,
    "pycharm": {
     "name": "#%%\n"
    }
   }
  },
  {
   "cell_type": "code",
   "execution_count": 79,
   "outputs": [
    {
     "data": {
      "text/plain": "array(['ROUTEINS24',\n       'Fashion - 31082 - FILA - FILA x BTS GO BEYOND 오버핏 스몰 슈티 후디 - BLK / 100 - DA',\n       'Fashion - 31095 - FILA - FILA x BTS GO BEYOND 뉴트로 바시티 맨투맨 - BLK / 095 - DA',\n       ..., 'DBB_Seasonal', 'DBB_Seasonal', 'DBB_Seasonal'], dtype=object)"
     },
     "execution_count": 79,
     "metadata": {},
     "output_type": "execute_result"
    }
   ],
   "source": [
    "items"
   ],
   "metadata": {
    "collapsed": false,
    "pycharm": {
     "name": "#%%\n"
    }
   }
  },
  {
   "cell_type": "code",
   "execution_count": 80,
   "outputs": [
    {
     "data": {
      "text/plain": "array(['natsumi830@hotmail.com', 'natsumi830@hotmail.com',\n       'natsumi830@hotmail.com', ..., 'howard@feverguys.com',\n       'howard@feverguys.com', 'howard@feverguys.com'], dtype=object)"
     },
     "execution_count": 80,
     "metadata": {},
     "output_type": "execute_result"
    }
   ],
   "source": [
    "emails"
   ],
   "metadata": {
    "collapsed": false,
    "pycharm": {
     "name": "#%%\n"
    }
   }
  },
  {
   "cell_type": "code",
   "execution_count": 81,
   "outputs": [
    {
     "data": {
      "text/plain": "<52742x52742 sparse matrix of type '<class 'numpy.float64'>'\n\twith 37201 stored elements in Compressed Sparse Row format>"
     },
     "execution_count": 81,
     "metadata": {},
     "output_type": "execute_result"
    }
   ],
   "source": [
    "user_counts = order_matrix2.T.tocsr()\n",
    "user_counts"
   ],
   "metadata": {
    "collapsed": false,
    "pycharm": {
     "name": "#%%\n"
    }
   }
  },
  {
   "cell_type": "code",
   "execution_count": 82,
   "outputs": [
    {
     "name": "stderr",
     "output_type": "stream",
     "text": [
      "100%|██████████| 52742/52742 [00:16<00:00, 3249.16it/s]\n"
     ]
    }
   ],
   "source": [
    "with tqdm(total=len(emails)) as progress:\n",
    "    with codecs.open(\"item_recommendation\", \"w\", \"utf8\") as o:\n",
    "        for userid, username in enumerate(emails):\n",
    "            for i_id, score in model.recommend(userid, user_counts):\n",
    "                o.write(\"%s\\t%s\\t%s\\n\" % (username, items[i_id], score))\n",
    "            progress.update(1)\n",
    "\n",
    "logging.debug(\"generated recommendations in %0.2fs\", time.time() - start)"
   ],
   "metadata": {
    "collapsed": false,
    "pycharm": {
     "name": "#%%\n"
    }
   }
  },
  {
   "cell_type": "code",
   "execution_count": 83,
   "outputs": [
    {
     "data": {
      "text/plain": "[(1, 1.0),\n (422, 0.9917083),\n (159, 0.9915446),\n (915, 0.9912996),\n (2742, 0.9692392),\n (2741, 0.9692391),\n (3515, 0.95830137),\n (2366, 0.95583844),\n (880, 0.9558384),\n (160, 0.95416504)]"
     },
     "execution_count": 83,
     "metadata": {},
     "output_type": "execute_result"
    }
   ],
   "source": [
    "related = model.similar_items(1)\n",
    "related"
   ],
   "metadata": {
    "collapsed": false,
    "pycharm": {
     "name": "#%%\n"
    }
   }
  },
  {
   "cell_type": "code",
   "execution_count": 84,
   "outputs": [
    {
     "name": "stderr",
     "output_type": "stream",
     "text": [
      "100%|██████████| 52742/52742 [00:13<00:00, 3783.46it/s]\n"
     ]
    }
   ],
   "source": [
    "with tqdm(total=len(items)) as progress:\n",
    "    with codecs.open(\"related_item\", \"w\", \"utf8\") as o:\n",
    "        for itemsid, itemname in enumerate(items):\n",
    "            for i_id, score in model.similar_items(itemsid):\n",
    "                o.write(\"%s\\t%s\\t%s\\n\" % (itemname, items[i_id], score))\n",
    "            progress.update(1)\n",
    "\n",
    "logging.debug(\"generated recommendations in %0.2fs\", time.time() - start)\n"
   ],
   "metadata": {
    "collapsed": false,
    "pycharm": {
     "name": "#%%\n"
    }
   }
  },
  {
   "cell_type": "code",
   "execution_count": 84,
   "outputs": [],
   "source": [],
   "metadata": {
    "collapsed": false,
    "pycharm": {
     "name": "#%%\n"
    }
   }
  }
 ],
 "metadata": {
  "kernelspec": {
   "display_name": "Python 3",
   "language": "python",
   "name": "python3"
  },
  "language_info": {
   "codemirror_mode": {
    "name": "ipython",
    "version": 2
   },
   "file_extension": ".py",
   "mimetype": "text/x-python",
   "name": "python",
   "nbconvert_exporter": "python",
   "pygments_lexer": "ipython2",
   "version": "2.7.6"
  }
 },
 "nbformat": 4,
 "nbformat_minor": 0
}